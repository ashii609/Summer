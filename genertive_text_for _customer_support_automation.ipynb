import pandas as pd
import numpy as np
import re
import string

import csv
import pandas as pd

# Define the file path
file_path = 'Bitext_Sample_Customer_Support_Training_Dataset_27K_responses-v11.csv'

# Initialize an empty list to store rows of data
rows = []

# Attempt to read the file and handle parsing errors
try:
    with open(file_path, 'r', encoding='utf-8', errors='ignore') as csvfile:
        reader = csv.reader(csvfile)
        header = next(reader)  # Skip header
        for i, row in enumerate(reader):
            try:
                if len(row) == len(header):
                    rows.append(row)
                else:
                    print(f"Ignoring line {i+2}: Unexpected number of fields")
            except Exception as e:
                print(f"Error reading line {i+2}: {e}")

    # Create a DataFrame from the list of rows
    df = pd.DataFrame(rows, columns=header)
    print("Successfully read the CSV file.")
    print(df.head())
except Exception as e:
    print(f"Error reading CSV file: {e}")

Successfully read the CSV file.
   flags                                        instruction category  \
0      B   question about cancelling order {{Order Number}}    ORDER   
1    BQZ  i have a question about cancelling oorder {{Or...    ORDER   
2   BLQZ    i need help cancelling puchase {{Order Number}}    ORDER   
3     BL         I need to cancel purchase {{Order Number}}    ORDER   
4  BCELN  I cannot afford this order, cancel purchase {{...    ORDER   

         intent                                           response  
0  cancel_order  I've understood you have a question regarding ...  
1  cancel_order  I've been informed that you have a question ab...  
2  cancel_order  I can sense that you're seeking assistance wit...  
3  cancel_order  I understood that you need assistance with can...  
4  cancel_order  I'm sensitive to the fact that you're facing f... 


# Example: Display the first few rows of the DataFrame
print(df.head())

# Example: Perform further analysis or operations on the DataFrame
# For instance, counting unique values in a column
category_counts = df['category'].value_counts()
print("\nCategory Counts:")
print(category_counts)

     
   flags                                        instruction category  \
0      B   question about cancelling order {{Order Number}}    ORDER   
1    BQZ  i have a question about cancelling oorder {{Or...    ORDER   
2   BLQZ    i need help cancelling puchase {{Order Number}}    ORDER   
3     BL         I need to cancel purchase {{Order Number}}    ORDER   
4  BCELN  I cannot afford this order, cancel purchase {{...    ORDER   

         intent                                           response  
0  cancel_order  I've understood you have a question regarding ...  
1  cancel_order  I've been informed that you have a question ab...  
2  cancel_order  I can sense that you're seeking assistance wit...  
3  cancel_order  I understood that you need assistance with can...  
4  cancel_order  I'm sensitive to the fact that you're facing f...  

Category Counts:
category
ORDER    859
Name: count, dtype: int64


import pandas as pd
import re
import string

# Assuming df is your DataFrame with the relevant columns ('query' and 'response')

# Example data
data = {
    'flags': ['B', 'BQZ', 'BLQZ', 'BL', 'BCELN'],
    'instruction': [
        'question about cancelling order {{Order Number}}',
        'i have a question about cancelling oorder {{Or...',
        'i need help cancelling puchase {{Order Number}}',
        'I need to cancel purchase {{Order Number}}',
        'I cannot afford this order, cancel purchase {{...'
    ],
    'category': ['ORDER', 'ORDER', 'ORDER', 'ORDER', 'ORDER'],
    'intent': ['cancel_order', 'cancel_order', 'cancel_order', 'cancel_order', 'cancel_order'],
    'response': [
        "I've understood you have a question regarding ...",
        "I've been informed that you have a question ab...",
        "I can sense that you're seeking assistance wit...",
        "I understood that you need assistance with can...",
        "I'm sensitive to the fact that you're facing f..."
    ]
}


# Create DataFrame
df = pd.DataFrame(data)

# Function to clean text
def clean_text(text):
    text = text.lower()  # Convert text to lowercase
    text = re.sub(f'[{re.escape(string.punctuation)}]', '', text)  # Remove punctuation
    text = re.sub('\s+', ' ', text).strip()  # Normalize whitespace
    return text

# Apply cleaning function to 'instruction' and 'response' columns
df['instruction_clean'] = df['instruction'].apply(clean_text)
df['response_clean'] = df['response'].apply(clean_text)

# Display the cleaned dataset
print(df.head())

     
   flags                                        instruction category  \
0      B   question about cancelling order {{Order Number}}    ORDER   
1    BQZ  i have a question about cancelling oorder {{Or...    ORDER   
2   BLQZ    i need help cancelling puchase {{Order Number}}    ORDER   
3     BL         I need to cancel purchase {{Order Number}}    ORDER   
4  BCELN  I cannot afford this order, cancel purchase {{...    ORDER   

         intent                                           response  \
0  cancel_order  I've understood you have a question regarding ...   
1  cancel_order  I've been informed that you have a question ab...   
2  cancel_order  I can sense that you're seeking assistance wit...   
3  cancel_order  I understood that you need assistance with can...   
4  cancel_order  I'm sensitive to the fact that you're facing f...   

                              instruction_clean  \
0  question about cancelling order order number   
1  i have a question about cancelling oorder or   
2   i need help cancelling puchase order number   
3        i need to cancel purchase order number   
4    i cannot afford this order cancel purchase   

                                   response_clean  
0    ive understood you have a question regarding  
1   ive been informed that you have a question ab  
2   i can sense that youre seeking assistance wit  
3  i understood that you need assistance with can  
4    im sensitive to the fact that youre facing f  


pip install openai

     
Collecting openai
  Downloading openai-1.35.13-py3-none-any.whl (328 kB)
     ━━━━━━━━━━━━━━━━━━━━━━━━━━━━━━━━━━━━━━━━ 0.0/328.5 kB ? eta -:--:--
     ━━━━━━━━━━━━━━━━━━━━━━━━━━━╺━━━━━━━━━━━━ 225.3/328.5 kB 6.6 MB/s eta 0:00:01
     ━━━━━━━━━━━━━━━━━━━━━━━━━━━━━━━━━━━━━━━━ 328.5/328.5 kB 6.4 MB/s eta 0:00:00
Requirement already satisfied: anyio<5,>=3.5.0 in /usr/local/lib/python3.10/dist-packages (from openai) (3.7.1)
Requirement already satisfied: distro<2,>=1.7.0 in /usr/lib/python3/dist-packages (from openai) (1.7.0)
Collecting httpx<1,>=0.23.0 (from openai)
  Downloading httpx-0.27.0-py3-none-any.whl (75 kB)
     ━━━━━━━━━━━━━━━━━━━━━━━━━━━━━━━━━━━━━━━━ 75.6/75.6 kB 5.6 MB/s eta 0:00:00
Requirement already satisfied: pydantic<3,>=1.9.0 in /usr/local/lib/python3.10/dist-packages (from openai) (2.8.0)
Requirement already satisfied: sniffio in /usr/local/lib/python3.10/dist-packages (from openai) (1.3.1)
Requirement already satisfied: tqdm>4 in /usr/local/lib/python3.10/dist-packages (from openai) (4.66.4)
Requirement already satisfied: typing-extensions<5,>=4.7 in /usr/local/lib/python3.10/dist-packages (from openai) (4.12.2)
Requirement already satisfied: idna>=2.8 in /usr/local/lib/python3.10/dist-packages (from anyio<5,>=3.5.0->openai) (3.7)
Requirement already satisfied: exceptiongroup in /usr/local/lib/python3.10/dist-packages (from anyio<5,>=3.5.0->openai) (1.2.1)
Requirement already satisfied: certifi in /usr/local/lib/python3.10/dist-packages (from httpx<1,>=0.23.0->openai) (2024.6.2)
Collecting httpcore==1.* (from httpx<1,>=0.23.0->openai)
  Downloading httpcore-1.0.5-py3-none-any.whl (77 kB)
     ━━━━━━━━━━━━━━━━━━━━━━━━━━━━━━━━━━━━━━━━ 77.9/77.9 kB 5.1 MB/s eta 0:00:00
Collecting h11<0.15,>=0.13 (from httpcore==1.*->httpx<1,>=0.23.0->openai)
  Downloading h11-0.14.0-py3-none-any.whl (58 kB)
     ━━━━━━━━━━━━━━━━━━━━━━━━━━━━━━━━━━━━━━━━ 58.3/58.3 kB 9.3 MB/s eta 0:00:00
Requirement already satisfied: annotated-types>=0.4.0 in /usr/local/lib/python3.10/dist-packages (from pydantic<3,>=1.9.0->openai) (0.7.0)
Requirement already satisfied: pydantic-core==2.20.0 in /usr/local/lib/python3.10/dist-packages (from pydantic<3,>=1.9.0->openai) (2.20.0)
Installing collected packages: h11, httpcore, httpx, openai
Successfully installed h11-0.14.0 httpcore-1.0.5 httpx-0.27.0 openai-1.35.13

# Upgrade openai package
!pip install --upgrade openai

# Verify installation
!pip show openai


     
Collecting openai
  Downloading openai-1.35.13-py3-none-any.whl (328 kB)
     ━━━━━━━━━━━━━━━━━━━━━━━━━━━━━━━━━━━━━━━━ 0.0/328.5 kB ? eta -:--:--
     ━━━━━━━━━━━━━━━━━━━━━━━━━━━━━━━━━╸━━━━━━ 276.5/328.5 kB 8.1 MB/s eta 0:00:01
     ━━━━━━━━━━━━━━━━━━━━━━━━━━━━━━━━━━━━━━━━ 328.5/328.5 kB 7.5 MB/s eta 0:00:00
Requirement already satisfied: anyio<5,>=3.5.0 in /usr/local/lib/python3.10/dist-packages (from openai) (3.7.1)
Requirement already satisfied: distro<2,>=1.7.0 in /usr/lib/python3/dist-packages (from openai) (1.7.0)
Collecting httpx<1,>=0.23.0 (from openai)
  Downloading httpx-0.27.0-py3-none-any.whl (75 kB)
     ━━━━━━━━━━━━━━━━━━━━━━━━━━━━━━━━━━━━━━━━ 0.0/75.6 kB ? eta -:--:--
     ━━━━━━━━━━━━━━━━━━━━━━━━━━━━━━━━━━━━━━━━ 75.6/75.6 kB 10.2 MB/s eta 0:00:00
Requirement already satisfied: pydantic<3,>=1.9.0 in /usr/local/lib/python3.10/dist-packages (from openai) (2.8.2)
Requirement already satisfied: sniffio in /usr/local/lib/python3.10/dist-packages (from openai) (1.3.1)
Requirement already satisfied: tqdm>4 in /usr/local/lib/python3.10/dist-packages (from openai) (4.66.4)
Requirement already satisfied: typing-extensions<5,>=4.7 in /usr/local/lib/python3.10/dist-packages (from openai) (4.12.2)
Requirement already satisfied: idna>=2.8 in /usr/local/lib/python3.10/dist-packages (from anyio<5,>=3.5.0->openai) (3.7)
Requirement already satisfied: exceptiongroup in /usr/local/lib/python3.10/dist-packages (from anyio<5,>=3.5.0->openai) (1.2.1)
Requirement already satisfied: certifi in /usr/local/lib/python3.10/dist-packages (from httpx<1,>=0.23.0->openai) (2024.7.4)
Collecting httpcore==1.* (from httpx<1,>=0.23.0->openai)
  Downloading httpcore-1.0.5-py3-none-any.whl (77 kB)
     ━━━━━━━━━━━━━━━━━━━━━━━━━━━━━━━━━━━━━━━━ 77.9/77.9 kB 11.2 MB/s eta 0:00:00
Collecting h11<0.15,>=0.13 (from httpcore==1.*->httpx<1,>=0.23.0->openai)
  Downloading h11-0.14.0-py3-none-any.whl (58 kB)
     ━━━━━━━━━━━━━━━━━━━━━━━━━━━━━━━━━━━━━━━━ 58.3/58.3 kB 10.2 MB/s eta 0:00:00
Requirement already satisfied: annotated-types>=0.4.0 in /usr/local/lib/python3.10/dist-packages (from pydantic<3,>=1.9.0->openai) (0.7.0)
Requirement already satisfied: pydantic-core==2.20.1 in /usr/local/lib/python3.10/dist-packages (from pydantic<3,>=1.9.0->openai) (2.20.1)
Installing collected packages: h11, httpcore, httpx, openai
Successfully installed h11-0.14.0 httpcore-1.0.5 httpx-0.27.0 openai-1.35.13
Name: openai
Version: 1.35.13
Summary: The official Python library for the openai API
Home-page: 
Author: 
Author-email: OpenAI <support@openai.com>
License: 
Location: /usr/local/lib/python3.10/dist-packages
Requires: anyio, distro, httpx, pydantic, sniffio, tqdm, typing-extensions
Required-by: 

import openai

# Set up the OpenAI API key
openai.api_key = 'amit_baran_dey'

     


# Example of using the API to generate a response
def generate_response(query):
    response = openai.Completion.create(
        model="text-davinci-003",
        prompt=query,
        max_tokens=150
    )
    return response['choices'][0]['text'].strip()

# Function to handle customer queries
def handle_customer_query(query):
    query_clean = clean_text(query)
    response = generate_response(query_clean)
    return response
     

def generate_response(query):
    response = openai.Completion.create(
        model="text-davinci-003",
        prompt=query,
        max_tokens=150
    )
    return response['choices'][0]['text'].strip()

     

def generate_personalized_response(query, customer_data):
    prompt = f"""
    Customer Name: {customer_data['name']}
    Last Interaction: {customer_data['last_interaction']}
    Preferred Language: {customer_data['preferred_language']}

    Query: {query}
    """
    response = openai.Completion.create(
        model="text-davinci-003",
        prompt=prompt,
        max_tokens=150
    )
    return response['choices'][0]['text'].strip()

     

def generate_response(prompt):
    response = openai.Completion.create(
        engine="text-davinci-003",  # or "gpt-3.5-turbo"
        prompt=prompt,
        max_tokens=150,
        n=1,
        stop=None,
        temperature=0.7,
    )
    return response.choices[0].text.strip()

def automated_response_generation(customer_query):
    prompt = f"Customer query: {customer_query}\nResponse:"
    response = generate_response(prompt)
    return response

def personalized_engagement_message(customer_name, interaction_history, preferences):
    prompt = (f"Generate a personalized message for a customer named {customer_name}.\n"
              f"Interaction history: {interaction_history}\n"
              f"Preferences: {preferences}\n"
              f"Personalized message:")
    message = generate_response(prompt)
    return message
